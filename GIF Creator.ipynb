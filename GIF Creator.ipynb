{
 "cells": [
  {
   "cell_type": "code",
   "execution_count": 2,
   "id": "4136e9d0",
   "metadata": {},
   "outputs": [],
   "source": [
    "import glob"
   ]
  },
  {
   "cell_type": "code",
   "execution_count": 4,
   "id": "8123ffd9",
   "metadata": {},
   "outputs": [],
   "source": [
    "from tkinter import *"
   ]
  },
  {
   "cell_type": "code",
   "execution_count": 7,
   "id": "6a063820",
   "metadata": {},
   "outputs": [],
   "source": [
    "from tkinter import filedialog\n",
    "from tkinter import messagebox\n",
    "from path import Path\n",
    "import imageio"
   ]
  },
  {
   "cell_type": "code",
   "execution_count": 20,
   "id": "2b906a96",
   "metadata": {},
   "outputs": [],
   "source": [
    "def convertTOGIF():\n",
    "    path=direc.get()\n",
    "    ext=extension.get()\n",
    "    path_in=path+'/*.'+ext\n",
    "    path_out=path+\"/MyGif.gif\"  \n",
    "    imgs=[]\n",
    "    try:\n",
    "        file=glob.glob(path_in,recursive=True)\n",
    "        for im in file:\n",
    "            imgs.append(imageio.imread(im))\n",
    "        imageio.mimsave(path_out,imgs)\n",
    "        messagebox.showinfo(\"GIF Generator\",\"GIF is saved successfully in the folder with images!\")\n",
    "    except:\n",
    "        messagebox.showinfo(\"Error occured!\",\"Please check the path of the folder or the extension of the images.\")\n",
    "wn=Tk()\n",
    "wn.title(\"GIF Creator\")\n",
    "wn.geometry('500x300')\n",
    "wn.config(bg='azure')\n",
    "\n",
    "extension=StringVar(wn)\n",
    "direc=StringVar(wn)\n",
    "\n",
    "Label(wn,text='GIF Creator',bg='azure',fg='black',font=('Times',20,'bold')).place(x=60,y=10)\n",
    "Label(wn,text='Please select the extension of the images',bg='azure2',anchor=\"e\",justify=LEFT).place(x=20,y=70)\n",
    "Radiobutton(wn,text='png',bg='azure2',variable=extension,value='png').place(x=50,y=100)\n",
    "Radiobutton(wn,text='jpeg',bg='azure2',variable=extension,value='jpeg').place(x=150,y=100)\n",
    "Label(wn,text='Please enter the folder location where images exist',bg='azure2',anchor=\"e\",justify=LEFT).place(x=20,y=130)\n",
    "Entry(wn,textvariable=direc,width=35,font=('calibore',10,'normal')).place(x=200,y=160)\n",
    "Label(wn,text='Please click the button to get the GIF',bg='azure2',anchor=\"e\",justify=LEFT).place(x=20,y=190)\n",
    "Button(wn,text=\"Click Me\",bg='ivory3',font=('calibore',13),command=convertTOGIF).place(x=230,y=220)\n",
    "\n",
    "wn.mainloop()\n",
    "            "
   ]
  }
 ],
 "metadata": {
  "kernelspec": {
   "display_name": "Python 3 (ipykernel)",
   "language": "python",
   "name": "python3"
  },
  "language_info": {
   "codemirror_mode": {
    "name": "ipython",
    "version": 3
   },
   "file_extension": ".py",
   "mimetype": "text/x-python",
   "name": "python",
   "nbconvert_exporter": "python",
   "pygments_lexer": "ipython3",
   "version": "3.9.12"
  }
 },
 "nbformat": 4,
 "nbformat_minor": 5
}
